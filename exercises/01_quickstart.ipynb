{
 "cells": [
  {
   "attachments": {},
   "cell_type": "markdown",
   "metadata": {},
   "source": [
    "# Quickstart\n",
    "\n",
    "This notebook is just to make sure that everything works. Firstly, let's pull the latest changes for this repo.\n"
   ]
  },
  {
   "cell_type": "code",
   "execution_count": 11,
   "metadata": {},
   "outputs": [
    {
     "name": "stderr",
     "output_type": "stream",
     "text": [
      "huggingface/tokenizers: The current process just got forked, after parallelism has already been used. Disabling parallelism to avoid deadlocks...\n",
      "To disable this warning, you can either:\n",
      "\t- Avoid using `tokenizers` before the fork if possible\n",
      "\t- Explicitly set the environment variable TOKENIZERS_PARALLELISM=(true | false)\n"
     ]
    },
    {
     "name": "stdout",
     "output_type": "stream",
     "text": [
      "Already up to date.\n"
     ]
    }
   ],
   "source": [
    "!git pull"
   ]
  },
  {
   "cell_type": "code",
   "execution_count": 12,
   "metadata": {},
   "outputs": [
    {
     "name": "stderr",
     "output_type": "stream",
     "text": [
      "huggingface/tokenizers: The current process just got forked, after parallelism has already been used. Disabling parallelism to avoid deadlocks...\n",
      "To disable this warning, you can either:\n",
      "\t- Avoid using `tokenizers` before the fork if possible\n",
      "\t- Explicitly set the environment variable TOKENIZERS_PARALLELISM=(true | false)\n"
     ]
    },
    {
     "name": "stdout",
     "output_type": "stream",
     "text": [
      "Requirement already satisfied: openai==0.28 in /workspaces/azure-openai-in-a-day-workshop/venv/lib/python3.11/site-packages (from -r ../requirements.txt (line 1)) (0.28.0)\n",
      "Requirement already satisfied: python-dotenv in /workspaces/azure-openai-in-a-day-workshop/venv/lib/python3.11/site-packages (from -r ../requirements.txt (line 2)) (1.0.0)\n",
      "Requirement already satisfied: numpy in /workspaces/azure-openai-in-a-day-workshop/venv/lib/python3.11/site-packages (from -r ../requirements.txt (line 3)) (1.26.2)\n",
      "Requirement already satisfied: pandas in /workspaces/azure-openai-in-a-day-workshop/venv/lib/python3.11/site-packages (from -r ../requirements.txt (line 4)) (2.1.3)\n",
      "Requirement already satisfied: tenacity in /workspaces/azure-openai-in-a-day-workshop/venv/lib/python3.11/site-packages (from -r ../requirements.txt (line 5)) (8.2.3)\n",
      "Requirement already satisfied: tiktoken in /workspaces/azure-openai-in-a-day-workshop/venv/lib/python3.11/site-packages (from -r ../requirements.txt (line 6)) (0.5.1)\n",
      "Requirement already satisfied: faiss-cpu in /workspaces/azure-openai-in-a-day-workshop/venv/lib/python3.11/site-packages (from -r ../requirements.txt (line 7)) (1.7.4)\n",
      "Requirement already satisfied: sentence-transformers in /workspaces/azure-openai-in-a-day-workshop/venv/lib/python3.11/site-packages (from -r ../requirements.txt (line 8)) (2.2.2)\n",
      "Requirement already satisfied: tqdm in /workspaces/azure-openai-in-a-day-workshop/venv/lib/python3.11/site-packages (from -r ../requirements.txt (line 9)) (4.66.1)\n",
      "Requirement already satisfied: matplotlib in /workspaces/azure-openai-in-a-day-workshop/venv/lib/python3.11/site-packages (from -r ../requirements.txt (line 10)) (3.8.2)\n",
      "Requirement already satisfied: plotly in /workspaces/azure-openai-in-a-day-workshop/venv/lib/python3.11/site-packages (from -r ../requirements.txt (line 11)) (5.18.0)\n",
      "Requirement already satisfied: requests>=2.20 in /workspaces/azure-openai-in-a-day-workshop/venv/lib/python3.11/site-packages (from openai==0.28->-r ../requirements.txt (line 1)) (2.31.0)\n",
      "Requirement already satisfied: aiohttp in /workspaces/azure-openai-in-a-day-workshop/venv/lib/python3.11/site-packages (from openai==0.28->-r ../requirements.txt (line 1)) (3.9.1)\n",
      "Requirement already satisfied: python-dateutil>=2.8.2 in /workspaces/azure-openai-in-a-day-workshop/venv/lib/python3.11/site-packages (from pandas->-r ../requirements.txt (line 4)) (2.8.2)\n",
      "Requirement already satisfied: pytz>=2020.1 in /workspaces/azure-openai-in-a-day-workshop/venv/lib/python3.11/site-packages (from pandas->-r ../requirements.txt (line 4)) (2023.3.post1)\n",
      "Requirement already satisfied: tzdata>=2022.1 in /workspaces/azure-openai-in-a-day-workshop/venv/lib/python3.11/site-packages (from pandas->-r ../requirements.txt (line 4)) (2023.3)\n",
      "Requirement already satisfied: regex>=2022.1.18 in /workspaces/azure-openai-in-a-day-workshop/venv/lib/python3.11/site-packages (from tiktoken->-r ../requirements.txt (line 6)) (2023.10.3)\n",
      "Requirement already satisfied: transformers<5.0.0,>=4.6.0 in /workspaces/azure-openai-in-a-day-workshop/venv/lib/python3.11/site-packages (from sentence-transformers->-r ../requirements.txt (line 8)) (4.35.2)\n",
      "Requirement already satisfied: torch>=1.6.0 in /workspaces/azure-openai-in-a-day-workshop/venv/lib/python3.11/site-packages (from sentence-transformers->-r ../requirements.txt (line 8)) (2.1.1)\n",
      "Requirement already satisfied: torchvision in /workspaces/azure-openai-in-a-day-workshop/venv/lib/python3.11/site-packages (from sentence-transformers->-r ../requirements.txt (line 8)) (0.16.1)\n",
      "Requirement already satisfied: scikit-learn in /workspaces/azure-openai-in-a-day-workshop/venv/lib/python3.11/site-packages (from sentence-transformers->-r ../requirements.txt (line 8)) (1.3.2)\n",
      "Requirement already satisfied: scipy in /workspaces/azure-openai-in-a-day-workshop/venv/lib/python3.11/site-packages (from sentence-transformers->-r ../requirements.txt (line 8)) (1.11.4)\n",
      "Requirement already satisfied: nltk in /workspaces/azure-openai-in-a-day-workshop/venv/lib/python3.11/site-packages (from sentence-transformers->-r ../requirements.txt (line 8)) (3.8.1)\n",
      "Requirement already satisfied: sentencepiece in /workspaces/azure-openai-in-a-day-workshop/venv/lib/python3.11/site-packages (from sentence-transformers->-r ../requirements.txt (line 8)) (0.1.99)\n",
      "Requirement already satisfied: huggingface-hub>=0.4.0 in /workspaces/azure-openai-in-a-day-workshop/venv/lib/python3.11/site-packages (from sentence-transformers->-r ../requirements.txt (line 8)) (0.19.4)\n",
      "Requirement already satisfied: contourpy>=1.0.1 in /workspaces/azure-openai-in-a-day-workshop/venv/lib/python3.11/site-packages (from matplotlib->-r ../requirements.txt (line 10)) (1.2.0)\n",
      "Requirement already satisfied: cycler>=0.10 in /workspaces/azure-openai-in-a-day-workshop/venv/lib/python3.11/site-packages (from matplotlib->-r ../requirements.txt (line 10)) (0.12.1)\n",
      "Requirement already satisfied: fonttools>=4.22.0 in /workspaces/azure-openai-in-a-day-workshop/venv/lib/python3.11/site-packages (from matplotlib->-r ../requirements.txt (line 10)) (4.45.1)\n",
      "Requirement already satisfied: kiwisolver>=1.3.1 in /workspaces/azure-openai-in-a-day-workshop/venv/lib/python3.11/site-packages (from matplotlib->-r ../requirements.txt (line 10)) (1.4.5)\n",
      "Requirement already satisfied: packaging>=20.0 in /workspaces/azure-openai-in-a-day-workshop/venv/lib/python3.11/site-packages (from matplotlib->-r ../requirements.txt (line 10)) (23.2)\n",
      "Requirement already satisfied: pillow>=8 in /workspaces/azure-openai-in-a-day-workshop/venv/lib/python3.11/site-packages (from matplotlib->-r ../requirements.txt (line 10)) (10.1.0)\n",
      "Requirement already satisfied: pyparsing>=2.3.1 in /workspaces/azure-openai-in-a-day-workshop/venv/lib/python3.11/site-packages (from matplotlib->-r ../requirements.txt (line 10)) (3.1.1)\n",
      "Requirement already satisfied: filelock in /workspaces/azure-openai-in-a-day-workshop/venv/lib/python3.11/site-packages (from huggingface-hub>=0.4.0->sentence-transformers->-r ../requirements.txt (line 8)) (3.13.1)\n",
      "Requirement already satisfied: fsspec>=2023.5.0 in /workspaces/azure-openai-in-a-day-workshop/venv/lib/python3.11/site-packages (from huggingface-hub>=0.4.0->sentence-transformers->-r ../requirements.txt (line 8)) (2023.10.0)\n",
      "Requirement already satisfied: pyyaml>=5.1 in /workspaces/azure-openai-in-a-day-workshop/venv/lib/python3.11/site-packages (from huggingface-hub>=0.4.0->sentence-transformers->-r ../requirements.txt (line 8)) (6.0.1)\n",
      "Requirement already satisfied: typing-extensions>=3.7.4.3 in /workspaces/azure-openai-in-a-day-workshop/venv/lib/python3.11/site-packages (from huggingface-hub>=0.4.0->sentence-transformers->-r ../requirements.txt (line 8)) (4.8.0)\n",
      "Requirement already satisfied: six>=1.5 in /workspaces/azure-openai-in-a-day-workshop/venv/lib/python3.11/site-packages (from python-dateutil>=2.8.2->pandas->-r ../requirements.txt (line 4)) (1.16.0)\n",
      "Requirement already satisfied: charset-normalizer<4,>=2 in /workspaces/azure-openai-in-a-day-workshop/venv/lib/python3.11/site-packages (from requests>=2.20->openai==0.28->-r ../requirements.txt (line 1)) (3.3.2)\n",
      "Requirement already satisfied: idna<4,>=2.5 in /workspaces/azure-openai-in-a-day-workshop/venv/lib/python3.11/site-packages (from requests>=2.20->openai==0.28->-r ../requirements.txt (line 1)) (3.6)\n",
      "Requirement already satisfied: urllib3<3,>=1.21.1 in /workspaces/azure-openai-in-a-day-workshop/venv/lib/python3.11/site-packages (from requests>=2.20->openai==0.28->-r ../requirements.txt (line 1)) (2.1.0)\n",
      "Requirement already satisfied: certifi>=2017.4.17 in /workspaces/azure-openai-in-a-day-workshop/venv/lib/python3.11/site-packages (from requests>=2.20->openai==0.28->-r ../requirements.txt (line 1)) (2023.11.17)\n",
      "Requirement already satisfied: sympy in /workspaces/azure-openai-in-a-day-workshop/venv/lib/python3.11/site-packages (from torch>=1.6.0->sentence-transformers->-r ../requirements.txt (line 8)) (1.12)\n",
      "Requirement already satisfied: networkx in /workspaces/azure-openai-in-a-day-workshop/venv/lib/python3.11/site-packages (from torch>=1.6.0->sentence-transformers->-r ../requirements.txt (line 8)) (3.2.1)\n",
      "Requirement already satisfied: jinja2 in /workspaces/azure-openai-in-a-day-workshop/venv/lib/python3.11/site-packages (from torch>=1.6.0->sentence-transformers->-r ../requirements.txt (line 8)) (3.1.2)\n",
      "Requirement already satisfied: nvidia-cuda-nvrtc-cu12==12.1.105 in /workspaces/azure-openai-in-a-day-workshop/venv/lib/python3.11/site-packages (from torch>=1.6.0->sentence-transformers->-r ../requirements.txt (line 8)) (12.1.105)\n",
      "Requirement already satisfied: nvidia-cuda-runtime-cu12==12.1.105 in /workspaces/azure-openai-in-a-day-workshop/venv/lib/python3.11/site-packages (from torch>=1.6.0->sentence-transformers->-r ../requirements.txt (line 8)) (12.1.105)\n",
      "Requirement already satisfied: nvidia-cuda-cupti-cu12==12.1.105 in /workspaces/azure-openai-in-a-day-workshop/venv/lib/python3.11/site-packages (from torch>=1.6.0->sentence-transformers->-r ../requirements.txt (line 8)) (12.1.105)\n",
      "Requirement already satisfied: nvidia-cudnn-cu12==8.9.2.26 in /workspaces/azure-openai-in-a-day-workshop/venv/lib/python3.11/site-packages (from torch>=1.6.0->sentence-transformers->-r ../requirements.txt (line 8)) (8.9.2.26)\n",
      "Requirement already satisfied: nvidia-cublas-cu12==12.1.3.1 in /workspaces/azure-openai-in-a-day-workshop/venv/lib/python3.11/site-packages (from torch>=1.6.0->sentence-transformers->-r ../requirements.txt (line 8)) (12.1.3.1)\n",
      "Requirement already satisfied: nvidia-cufft-cu12==11.0.2.54 in /workspaces/azure-openai-in-a-day-workshop/venv/lib/python3.11/site-packages (from torch>=1.6.0->sentence-transformers->-r ../requirements.txt (line 8)) (11.0.2.54)\n",
      "Requirement already satisfied: nvidia-curand-cu12==10.3.2.106 in /workspaces/azure-openai-in-a-day-workshop/venv/lib/python3.11/site-packages (from torch>=1.6.0->sentence-transformers->-r ../requirements.txt (line 8)) (10.3.2.106)\n",
      "Requirement already satisfied: nvidia-cusolver-cu12==11.4.5.107 in /workspaces/azure-openai-in-a-day-workshop/venv/lib/python3.11/site-packages (from torch>=1.6.0->sentence-transformers->-r ../requirements.txt (line 8)) (11.4.5.107)\n",
      "Requirement already satisfied: nvidia-cusparse-cu12==12.1.0.106 in /workspaces/azure-openai-in-a-day-workshop/venv/lib/python3.11/site-packages (from torch>=1.6.0->sentence-transformers->-r ../requirements.txt (line 8)) (12.1.0.106)\n",
      "Requirement already satisfied: nvidia-nccl-cu12==2.18.1 in /workspaces/azure-openai-in-a-day-workshop/venv/lib/python3.11/site-packages (from torch>=1.6.0->sentence-transformers->-r ../requirements.txt (line 8)) (2.18.1)\n",
      "Requirement already satisfied: nvidia-nvtx-cu12==12.1.105 in /workspaces/azure-openai-in-a-day-workshop/venv/lib/python3.11/site-packages (from torch>=1.6.0->sentence-transformers->-r ../requirements.txt (line 8)) (12.1.105)\n",
      "Requirement already satisfied: triton==2.1.0 in /workspaces/azure-openai-in-a-day-workshop/venv/lib/python3.11/site-packages (from torch>=1.6.0->sentence-transformers->-r ../requirements.txt (line 8)) (2.1.0)\n",
      "Requirement already satisfied: nvidia-nvjitlink-cu12 in /workspaces/azure-openai-in-a-day-workshop/venv/lib/python3.11/site-packages (from nvidia-cusolver-cu12==11.4.5.107->torch>=1.6.0->sentence-transformers->-r ../requirements.txt (line 8)) (12.3.101)\n",
      "Requirement already satisfied: tokenizers<0.19,>=0.14 in /workspaces/azure-openai-in-a-day-workshop/venv/lib/python3.11/site-packages (from transformers<5.0.0,>=4.6.0->sentence-transformers->-r ../requirements.txt (line 8)) (0.15.0)\n",
      "Requirement already satisfied: safetensors>=0.3.1 in /workspaces/azure-openai-in-a-day-workshop/venv/lib/python3.11/site-packages (from transformers<5.0.0,>=4.6.0->sentence-transformers->-r ../requirements.txt (line 8)) (0.4.1)\n",
      "Requirement already satisfied: attrs>=17.3.0 in /workspaces/azure-openai-in-a-day-workshop/venv/lib/python3.11/site-packages (from aiohttp->openai==0.28->-r ../requirements.txt (line 1)) (23.1.0)\n",
      "Requirement already satisfied: multidict<7.0,>=4.5 in /workspaces/azure-openai-in-a-day-workshop/venv/lib/python3.11/site-packages (from aiohttp->openai==0.28->-r ../requirements.txt (line 1)) (6.0.4)\n",
      "Requirement already satisfied: yarl<2.0,>=1.0 in /workspaces/azure-openai-in-a-day-workshop/venv/lib/python3.11/site-packages (from aiohttp->openai==0.28->-r ../requirements.txt (line 1)) (1.9.3)\n",
      "Requirement already satisfied: frozenlist>=1.1.1 in /workspaces/azure-openai-in-a-day-workshop/venv/lib/python3.11/site-packages (from aiohttp->openai==0.28->-r ../requirements.txt (line 1)) (1.4.0)\n",
      "Requirement already satisfied: aiosignal>=1.1.2 in /workspaces/azure-openai-in-a-day-workshop/venv/lib/python3.11/site-packages (from aiohttp->openai==0.28->-r ../requirements.txt (line 1)) (1.3.1)\n",
      "Requirement already satisfied: click in /workspaces/azure-openai-in-a-day-workshop/venv/lib/python3.11/site-packages (from nltk->sentence-transformers->-r ../requirements.txt (line 8)) (8.1.7)\n",
      "Requirement already satisfied: joblib in /workspaces/azure-openai-in-a-day-workshop/venv/lib/python3.11/site-packages (from nltk->sentence-transformers->-r ../requirements.txt (line 8)) (1.3.2)\n",
      "Requirement already satisfied: threadpoolctl>=2.0.0 in /workspaces/azure-openai-in-a-day-workshop/venv/lib/python3.11/site-packages (from scikit-learn->sentence-transformers->-r ../requirements.txt (line 8)) (3.2.0)\n",
      "Requirement already satisfied: MarkupSafe>=2.0 in /workspaces/azure-openai-in-a-day-workshop/venv/lib/python3.11/site-packages (from jinja2->torch>=1.6.0->sentence-transformers->-r ../requirements.txt (line 8)) (2.1.3)\n",
      "Requirement already satisfied: mpmath>=0.19 in /workspaces/azure-openai-in-a-day-workshop/venv/lib/python3.11/site-packages (from sympy->torch>=1.6.0->sentence-transformers->-r ../requirements.txt (line 8)) (1.3.0)\n"
     ]
    }
   ],
   "source": [
    "#Let's install the requirements\n",
    "!pip3 install -r ../requirements.txt"
   ]
  },
  {
   "cell_type": "code",
   "execution_count": 13,
   "metadata": {},
   "outputs": [],
   "source": [
    "import os\n",
    "import tiktoken\n",
    "import openai\n",
    "from dotenv import load_dotenv\n",
    "import sys\n",
    "\n",
    "# Load environment variables\n",
    "load_dotenv('../.env')\n",
    "\n",
    "# Option 2 - Using Access Key\n",
    "openai.api_type = \"azure\"\n",
    "openai.api_base = os.environ.get(\"OPENAI_API_BASE\")\n",
    "openai.api_key = os.environ.get(\"OPENAI_API_KEY\")\n",
    "openai.api_version = os.environ.get('OPENAI_API_VERSION', \"2022-12-01\")\n",
    "\n",
    "# Define embedding model and encoding\n",
    "EMBEDDING_MODEL = os.environ.get('OPENAI_EMBEDDING_MODE', 'text-embedding-ada-002')\n",
    "COMPLETION_MODEL = os.environ.get('OPENAI_COMPLETION_MODEL', 'gpt-35-turbo')\n",
    "encoding = tiktoken.get_encoding('cl100k_base')"
   ]
  },
  {
   "attachments": {},
   "cell_type": "markdown",
   "metadata": {},
   "source": [
    "Test if tokenizer works:"
   ]
  },
  {
   "cell_type": "code",
   "execution_count": 14,
   "metadata": {},
   "outputs": [
    {
     "name": "stdout",
     "output_type": "stream",
     "text": [
      "There are 3 for text prompt: 'Hello world!'\n",
      "[9906, 1917, 0]\n",
      "9906 - Hello\n",
      "1917 -  world\n",
      "0 - !\n"
     ]
    }
   ],
   "source": [
    "text_to_encode = \"Hello world!\"\n",
    "tokens = encoding.encode(text_to_encode)\n",
    "print(f\"There are {len(tokens)} for text prompt: '{text_to_encode}'\")\n",
    "print(tokens)\n",
    "for token in tokens:\n",
    "    print(f\"{token} - {encoding.decode([token])}\")"
   ]
  },
  {
   "attachments": {},
   "cell_type": "markdown",
   "metadata": {},
   "source": [
    "Test if we can reach OpenAI"
   ]
  },
  {
   "cell_type": "code",
   "execution_count": 15,
   "metadata": {},
   "outputs": [
    {
     "name": "stdout",
     "output_type": "stream",
     "text": [
      "\",\"Narendra Modi\"],\n",
      "    [\"What is the capital of India?\",\"New\n"
     ]
    }
   ],
   "source": [
    "prompt = 'Who is the prime minister of India?'  # The prompt to generate completions for\n",
    "# Generate 3 completions\n",
    "response = openai.Completion.create(engine=\"gpt-35-turbo\",\n",
    "                                    prompt=prompt,\n",
    "                                    temperature=0)  # Change the temperature to generate more or less random completions\n",
    "print(response.choices[0].text)"
   ]
  },
  {
   "attachments": {},
   "cell_type": "markdown",
   "metadata": {},
   "source": [
    "Do it in a streaming fashion from OpenAI"
   ]
  },
  {
   "cell_type": "code",
   "execution_count": 16,
   "metadata": {},
   "outputs": [
    {
     "name": "stdout",
     "output_type": "stream",
     "text": [
      ". 1) Scoops of joy for everyone! 2) Deliciousness never tasted so refreshing! 3) Chill out with our amazing flavors! 4) Melt away your worries with ice cream! 5) Happiness in every cold bite! Which tagline(s) is/are your favorite(s)? Let's talk about other ice cream-related words! Write down as many ice cream-related words as you can think of. E.g., tapoché (cheese-flavored ice cream in Japan), gelato (Italian-style soft ice cream), cone, scoop, sundae, toppings, and flavors. What’s your favorite kind of ice cream? I like fruity ones, with blueberry and raspberry being my favorite flavors. Others might prefer chocolate or vanilla, adventurous ones like durian or wasabi, or vegan varieties made with soy milk. Speaking of which, have you ever tried out vegan ice cream? Let us know in the comments! Is it hard to make ice cream at home? Making ice cream at home can be an exciting way to experiment with your flavor combinations. It ranges from easy no-churn recipes like this one using heavy cream and condensed milk to more sophisticated ones that require specialized equipment like this model that uses liquid nitrogen to make ice cream. Do you have an ice cream maker? If so, have you tried making any fun flavors with it? Share with us in the comments section!\n",
      "\n",
      "I loved Erin’s tips and just had to research some more! Here are some fun and interesting facts about ice cream, all thanks to mental_floss.\n",
      "\n",
      "1. We have Marco Polo to thank for introducing ice cream and introducing it to Europe. According to legend, he learned about ice cream or sherbet when in China and later returned to Europe with recipe. Sicilians attributed the invention of ice cream to Marco Polo, but it’s more like the concept of frozen desserts existed in China, Persia, and India long before he showed up.\n",
      "\n",
      "2. Vanilla is America’s Favorite Flavor, making up 30% of sales, while chocolate comes in at second place, with 10-20% of sales.\n",
      "\n",
      "3. According to a Chinese custom, ice cream can actually produce “coldness” inside the body when consumed, which appeals to the Chinese more than it does for other people around the globe. In fact, some Chinese avoid ice cream when they have a cold, due to the belief that eating cold food while sick leads to more serious illness.\n",
      "\n",
      "4. The first ice cream parlor in America opened in New York"
     ]
    }
   ],
   "source": [
    "for resp in openai.Completion.create(engine='gpt-35-turbo', prompt='Give me 5 taglines for an ice cream shop', max_tokens=512, stream=True):\n",
    "    sys.stdout.write(resp.choices[0].text)\n",
    "    sys.stdout.flush()"
   ]
  },
  {
   "cell_type": "markdown",
   "metadata": {},
   "source": [
    "To save costs we would like to use a local embedding code instead of working with API. Lets test if Local embedding model work:"
   ]
  },
  {
   "cell_type": "code",
   "execution_count": 17,
   "metadata": {},
   "outputs": [
    {
     "name": "stderr",
     "output_type": "stream",
     "text": [
      "huggingface/tokenizers: The current process just got forked, after parallelism has already been used. Disabling parallelism to avoid deadlocks...\n",
      "To disable this warning, you can either:\n",
      "\t- Avoid using `tokenizers` before the fork if possible\n",
      "\t- Explicitly set the environment variable TOKENIZERS_PARALLELISM=(true | false)\n"
     ]
    },
    {
     "name": "stdout",
     "output_type": "stream",
     "text": [
      "Requirement already satisfied: sentence-transformers in /workspaces/azure-openai-in-a-day-workshop/venv/lib/python3.11/site-packages (2.2.2)\n",
      "Requirement already satisfied: transformers<5.0.0,>=4.6.0 in /workspaces/azure-openai-in-a-day-workshop/venv/lib/python3.11/site-packages (from sentence-transformers) (4.35.2)\n",
      "Requirement already satisfied: tqdm in /workspaces/azure-openai-in-a-day-workshop/venv/lib/python3.11/site-packages (from sentence-transformers) (4.66.1)\n",
      "Requirement already satisfied: torch>=1.6.0 in /workspaces/azure-openai-in-a-day-workshop/venv/lib/python3.11/site-packages (from sentence-transformers) (2.1.1)\n",
      "Requirement already satisfied: torchvision in /workspaces/azure-openai-in-a-day-workshop/venv/lib/python3.11/site-packages (from sentence-transformers) (0.16.1)\n",
      "Requirement already satisfied: numpy in /workspaces/azure-openai-in-a-day-workshop/venv/lib/python3.11/site-packages (from sentence-transformers) (1.26.2)\n",
      "Requirement already satisfied: scikit-learn in /workspaces/azure-openai-in-a-day-workshop/venv/lib/python3.11/site-packages (from sentence-transformers) (1.3.2)\n",
      "Requirement already satisfied: scipy in /workspaces/azure-openai-in-a-day-workshop/venv/lib/python3.11/site-packages (from sentence-transformers) (1.11.4)\n",
      "Requirement already satisfied: nltk in /workspaces/azure-openai-in-a-day-workshop/venv/lib/python3.11/site-packages (from sentence-transformers) (3.8.1)\n",
      "Requirement already satisfied: sentencepiece in /workspaces/azure-openai-in-a-day-workshop/venv/lib/python3.11/site-packages (from sentence-transformers) (0.1.99)\n",
      "Requirement already satisfied: huggingface-hub>=0.4.0 in /workspaces/azure-openai-in-a-day-workshop/venv/lib/python3.11/site-packages (from sentence-transformers) (0.19.4)\n",
      "Requirement already satisfied: filelock in /workspaces/azure-openai-in-a-day-workshop/venv/lib/python3.11/site-packages (from huggingface-hub>=0.4.0->sentence-transformers) (3.13.1)\n",
      "Requirement already satisfied: fsspec>=2023.5.0 in /workspaces/azure-openai-in-a-day-workshop/venv/lib/python3.11/site-packages (from huggingface-hub>=0.4.0->sentence-transformers) (2023.10.0)\n",
      "Requirement already satisfied: requests in /workspaces/azure-openai-in-a-day-workshop/venv/lib/python3.11/site-packages (from huggingface-hub>=0.4.0->sentence-transformers) (2.31.0)\n",
      "Requirement already satisfied: pyyaml>=5.1 in /workspaces/azure-openai-in-a-day-workshop/venv/lib/python3.11/site-packages (from huggingface-hub>=0.4.0->sentence-transformers) (6.0.1)\n",
      "Requirement already satisfied: typing-extensions>=3.7.4.3 in /workspaces/azure-openai-in-a-day-workshop/venv/lib/python3.11/site-packages (from huggingface-hub>=0.4.0->sentence-transformers) (4.8.0)\n",
      "Requirement already satisfied: packaging>=20.9 in /workspaces/azure-openai-in-a-day-workshop/venv/lib/python3.11/site-packages (from huggingface-hub>=0.4.0->sentence-transformers) (23.2)\n",
      "Requirement already satisfied: sympy in /workspaces/azure-openai-in-a-day-workshop/venv/lib/python3.11/site-packages (from torch>=1.6.0->sentence-transformers) (1.12)\n",
      "Requirement already satisfied: networkx in /workspaces/azure-openai-in-a-day-workshop/venv/lib/python3.11/site-packages (from torch>=1.6.0->sentence-transformers) (3.2.1)\n",
      "Requirement already satisfied: jinja2 in /workspaces/azure-openai-in-a-day-workshop/venv/lib/python3.11/site-packages (from torch>=1.6.0->sentence-transformers) (3.1.2)\n",
      "Requirement already satisfied: nvidia-cuda-nvrtc-cu12==12.1.105 in /workspaces/azure-openai-in-a-day-workshop/venv/lib/python3.11/site-packages (from torch>=1.6.0->sentence-transformers) (12.1.105)\n",
      "Requirement already satisfied: nvidia-cuda-runtime-cu12==12.1.105 in /workspaces/azure-openai-in-a-day-workshop/venv/lib/python3.11/site-packages (from torch>=1.6.0->sentence-transformers) (12.1.105)\n",
      "Requirement already satisfied: nvidia-cuda-cupti-cu12==12.1.105 in /workspaces/azure-openai-in-a-day-workshop/venv/lib/python3.11/site-packages (from torch>=1.6.0->sentence-transformers) (12.1.105)\n",
      "Requirement already satisfied: nvidia-cudnn-cu12==8.9.2.26 in /workspaces/azure-openai-in-a-day-workshop/venv/lib/python3.11/site-packages (from torch>=1.6.0->sentence-transformers) (8.9.2.26)\n",
      "Requirement already satisfied: nvidia-cublas-cu12==12.1.3.1 in /workspaces/azure-openai-in-a-day-workshop/venv/lib/python3.11/site-packages (from torch>=1.6.0->sentence-transformers) (12.1.3.1)\n",
      "Requirement already satisfied: nvidia-cufft-cu12==11.0.2.54 in /workspaces/azure-openai-in-a-day-workshop/venv/lib/python3.11/site-packages (from torch>=1.6.0->sentence-transformers) (11.0.2.54)\n",
      "Requirement already satisfied: nvidia-curand-cu12==10.3.2.106 in /workspaces/azure-openai-in-a-day-workshop/venv/lib/python3.11/site-packages (from torch>=1.6.0->sentence-transformers) (10.3.2.106)\n",
      "Requirement already satisfied: nvidia-cusolver-cu12==11.4.5.107 in /workspaces/azure-openai-in-a-day-workshop/venv/lib/python3.11/site-packages (from torch>=1.6.0->sentence-transformers) (11.4.5.107)\n",
      "Requirement already satisfied: nvidia-cusparse-cu12==12.1.0.106 in /workspaces/azure-openai-in-a-day-workshop/venv/lib/python3.11/site-packages (from torch>=1.6.0->sentence-transformers) (12.1.0.106)\n",
      "Requirement already satisfied: nvidia-nccl-cu12==2.18.1 in /workspaces/azure-openai-in-a-day-workshop/venv/lib/python3.11/site-packages (from torch>=1.6.0->sentence-transformers) (2.18.1)\n",
      "Requirement already satisfied: nvidia-nvtx-cu12==12.1.105 in /workspaces/azure-openai-in-a-day-workshop/venv/lib/python3.11/site-packages (from torch>=1.6.0->sentence-transformers) (12.1.105)\n",
      "Requirement already satisfied: triton==2.1.0 in /workspaces/azure-openai-in-a-day-workshop/venv/lib/python3.11/site-packages (from torch>=1.6.0->sentence-transformers) (2.1.0)\n",
      "Requirement already satisfied: nvidia-nvjitlink-cu12 in /workspaces/azure-openai-in-a-day-workshop/venv/lib/python3.11/site-packages (from nvidia-cusolver-cu12==11.4.5.107->torch>=1.6.0->sentence-transformers) (12.3.101)\n",
      "Requirement already satisfied: regex!=2019.12.17 in /workspaces/azure-openai-in-a-day-workshop/venv/lib/python3.11/site-packages (from transformers<5.0.0,>=4.6.0->sentence-transformers) (2023.10.3)\n",
      "Requirement already satisfied: tokenizers<0.19,>=0.14 in /workspaces/azure-openai-in-a-day-workshop/venv/lib/python3.11/site-packages (from transformers<5.0.0,>=4.6.0->sentence-transformers) (0.15.0)\n",
      "Requirement already satisfied: safetensors>=0.3.1 in /workspaces/azure-openai-in-a-day-workshop/venv/lib/python3.11/site-packages (from transformers<5.0.0,>=4.6.0->sentence-transformers) (0.4.1)\n",
      "Requirement already satisfied: click in /workspaces/azure-openai-in-a-day-workshop/venv/lib/python3.11/site-packages (from nltk->sentence-transformers) (8.1.7)\n",
      "Requirement already satisfied: joblib in /workspaces/azure-openai-in-a-day-workshop/venv/lib/python3.11/site-packages (from nltk->sentence-transformers) (1.3.2)\n",
      "Requirement already satisfied: threadpoolctl>=2.0.0 in /workspaces/azure-openai-in-a-day-workshop/venv/lib/python3.11/site-packages (from scikit-learn->sentence-transformers) (3.2.0)\n",
      "Requirement already satisfied: pillow!=8.3.*,>=5.3.0 in /workspaces/azure-openai-in-a-day-workshop/venv/lib/python3.11/site-packages (from torchvision->sentence-transformers) (10.1.0)\n",
      "Requirement already satisfied: MarkupSafe>=2.0 in /workspaces/azure-openai-in-a-day-workshop/venv/lib/python3.11/site-packages (from jinja2->torch>=1.6.0->sentence-transformers) (2.1.3)\n",
      "Requirement already satisfied: charset-normalizer<4,>=2 in /workspaces/azure-openai-in-a-day-workshop/venv/lib/python3.11/site-packages (from requests->huggingface-hub>=0.4.0->sentence-transformers) (3.3.2)\n",
      "Requirement already satisfied: idna<4,>=2.5 in /workspaces/azure-openai-in-a-day-workshop/venv/lib/python3.11/site-packages (from requests->huggingface-hub>=0.4.0->sentence-transformers) (3.6)\n",
      "Requirement already satisfied: urllib3<3,>=1.21.1 in /workspaces/azure-openai-in-a-day-workshop/venv/lib/python3.11/site-packages (from requests->huggingface-hub>=0.4.0->sentence-transformers) (2.1.0)\n",
      "Requirement already satisfied: certifi>=2017.4.17 in /workspaces/azure-openai-in-a-day-workshop/venv/lib/python3.11/site-packages (from requests->huggingface-hub>=0.4.0->sentence-transformers) (2023.11.17)\n",
      "Requirement already satisfied: mpmath>=0.19 in /workspaces/azure-openai-in-a-day-workshop/venv/lib/python3.11/site-packages (from sympy->torch>=1.6.0->sentence-transformers) (1.3.0)\n",
      "Got embeddings with shape (1, 384)\n"
     ]
    }
   ],
   "source": [
    "!pip3 install sentence-transformers\n",
    "from sentence_transformers import SentenceTransformer\n",
    "\n",
    "sentences = ['Hello World!']\n",
    "model = SentenceTransformer('sentence-transformers/all-MiniLM-L6-v2')\n",
    "embeddings = model.encode(sentences)\n",
    "print(f\"Got embeddings with shape {embeddings.shape}\")\n"
   ]
  },
  {
   "attachments": {},
   "cell_type": "markdown",
   "metadata": {},
   "source": [
    "Compare the embedding length coming from OpenAi's remote model (text-embedding-ada-002):"
   ]
  },
  {
   "cell_type": "code",
   "execution_count": 18,
   "metadata": {},
   "outputs": [
    {
     "name": "stdout",
     "output_type": "stream",
     "text": [
      "Full response keys from embedding dict_keys(['object', 'data', 'model', 'usage'])\n",
      "Embedding [0.00239680171944201, 0.0003746476140804589, -0.0021421907003968954, -0.025725148618221283, -0.011554941534996033, 0.00099094002507627, -0.014635421335697174, 0.0034451077226549387, 9.989948011934757e-05, -0.027736889198422432, 0.02377627231180668, 0.005004207603633404, -0.027636302635073662, -0.010190729051828384, 0.007789212744683027, 0.01168067567050457, 0.024995891377329826, -0.014145059511065483, 0.00734285730868578, 0.009662646800279617, -0.007078816182911396, 0.008518469519913197, 0.010310176759958267, 0.0058151911944150925, -0.006116952281445265, 0.0019190130988135934, 0.004884760361164808, -0.01886007934808731, 0.03756927698850632, -0.024115754291415215, 0.016043640673160553, -0.012240190990269184, -0.0031323449220508337, -0.024505529552698135, 0.009769520722329617, -0.0118315564468503, 0.0027504281606525183, -0.012485372833907604, 0.015301810577511787, -0.01855831779539585, 0.008669349364936352, 0.009813527576625347, 0.004887904040515423, -0.013629550114274025, -0.040788065642118454, 0.016320254653692245, 0.00212018727324903, -0.017602739855647087, -0.005287108942866325, 0.0211484357714653, 0.028893642127513885, -0.001073452876880765, -0.012089311145246029, 0.0020761804189532995, -0.013893591240048409, -0.0035174046643078327, -0.037594422698020935, 0.024404942989349365, 0.02834041230380535, -0.02655499055981636, 0.01332778949290514, 0.014019325375556946, -0.010982852429151535, 0.003624278586357832, -0.008996257558465004, 0.0059786452911794186, 0.01129090040922165, 0.01114001963287592, -0.0071479701437056065, 0.02655499055981636, 0.021186156198382378, -0.004947627428919077, -0.0025885459035634995, -0.01477372832596302, 0.016056213527917862, 0.009518053382635117, -0.02444266341626644, 0.002096612239256501, -0.00041020673234015703, -0.0020573202054947615, 0.030075538903474808, -0.034174464643001556, -0.003240790218114853, 0.008417882025241852, 0.018017662689089775, -0.0022364910691976547, -0.0003567698295228183, 0.015628719702363014, -0.009040264412760735, -0.018608611077070236, 0.0033508073538541794, 0.002294642850756645, 0.008235568180680275, 0.009354598820209503, -0.015276663936674595, 0.008707069791853428, -0.0023763698991388083, 0.021487917751073837, -0.005095364525914192, -0.03849970921874046, -0.015150929801166058, -0.0006149171385914087, -0.006494153756648302, -0.015176077373325825, -0.009128278121352196, 0.01262367982417345, -0.00441954517737031, 0.0012392643839120865, 0.02904452197253704, 0.011554941534996033, -0.030603621155023575, 0.005658023525029421, -0.004997921176254749, -0.037971626967191696, 0.0010223734425380826, -0.009668934158980846, 0.004598715808242559, 0.000679748656693846, -0.006462720222771168, -0.026429258286952972, 0.02036888524889946, 0.034702546894550323, 0.011699535883963108, -0.01926242746412754, 0.008568762801587582, 0.0030851946212351322, -0.040184542536735535, -0.01865890435874462, -0.007154256571084261, -0.00029468873981386423, 0.030477887019515038, 0.002767716534435749, 0.0037908758968114853, -0.0010813112603500485, -0.03616105765104294, 0.022845841944217682, -0.008864236995577812, 0.013755284249782562, -0.021135862916707993, -0.010926272720098495, 0.0009327880688942969, 0.021927984431385994, 0.016810616478323936, -0.007682338822633028, -0.0017995658563449979, 0.013742711395025253, 0.0018105675699189305, -0.010498777031898499, 0.004733880050480366, -0.01163666881620884, -3.7450026866281405e-05, 0.015125783160328865, 0.01467314176261425, 0.005503999534994364, 0.003413674421608448, 0.02485758438706398, 0.001405075890943408, 0.01586761325597763, 0.001243979437276721, -0.01482402253895998, -0.0026514127384871244, -0.00424037454649806, 0.0016832620603963733, -0.030301859602332115, 0.011114872992038727, 0.021915411576628685, 0.028290119022130966, 0.004815606866031885, -0.014849169179797173, -0.023839140310883522, -0.007349144201725721, 0.010303890332579613, -0.039178669452667236, 0.030100686475634575, -0.013088895007967949, -0.0025492541026324034, -0.0011316047748550773, 0.020419178530573845, -0.007650905288755894, -0.02305958978831768, -0.025197066366672516, 0.010404476895928383, -0.002249064389616251, 0.020218005403876305, 0.006626174319535494, -0.0042718080803751945, 0.005419129505753517, -0.01127832755446434, 0.015452691353857517, -0.016521429643034935, 0.01665973663330078, 0.032489631325006485, 0.022820696234703064, 0.025536546483635902, -0.6908321380615234, -0.009536913596093655, 0.018105676397681236, 0.006827348843216896, 0.013541536405682564, 0.006764481775462627, 0.007223410531878471, 0.0298492182046175, 0.004507558885961771, 0.021135862916707993, -0.019853375852108, 0.014321086928248405, -0.014233073219656944, -0.006695328280329704, -5.3682466386817396e-05, -0.008040680550038815, 0.0011284614447504282, -0.02036888524889946, -0.013528963550925255, 0.01547783799469471, -0.00914085190743208, 0.03148375824093819, -0.026881899684667587, -0.01586761325597763, 0.0070536695420742035, 0.011196600273251534, 0.0019551615696400404, -0.00557000981643796, -0.011297187767922878, 0.030578475445508957, -0.00137207075022161, 0.013692417182028294, 0.005645450204610825, 0.015628719702363014, 0.06342016160488129, 0.010165582410991192, -0.01103943306952715, 0.007581751793622971, 0.012755700387060642, 0.028617026284337044, -0.021337036043405533, -0.02324819006025791, 0.01129090040922165, -0.02018028497695923, -0.006151529029011726, 0.004372395109385252, 0.007204550318419933, -0.0009469331125728786, -0.002751999767497182, -0.0006432072841562331, 0.022229745984077454, -0.0027960066217929125, 0.010926272720098495, 0.015729306265711784, -0.0061986795626580715, 0.0013972175074741244, 0.02316017635166645, 0.009354598820209503, -0.00012278697977308184, 0.0005504785804077983, 0.0008958537364378572, 0.01847030408680439, -0.005909491330385208, -0.00021983779151923954, -0.026680724695324898, 0.02836555987596512, -0.021211301907896996, 0.009279158897697926, -0.006120095495134592, -0.006676468066871166, 5.770987627329305e-05, -0.00853732880204916, -0.019815657287836075, -0.023914581164717674, 0.012975734658539295, 0.02856673300266266, 0.018608611077070236, -0.005485139787197113, -0.0022600661031901836, 0.019425882026553154, 0.01103943306952715, 0.012673973105847836, -0.01598077453672886, -0.010926272720098495, 0.015842465683817863, -0.02314760349690914, -0.03316859155893326, -0.014962329529225826, 0.0073114242404699326, 0.009618639945983887, 0.03163463994860649, 0.009360886178910732, -0.011316047050058842, -0.024983318522572517, 0.02866731956601143, 0.0014514402719214559, -0.01507548987865448, 0.002469098661094904, 0.023122457787394524, -0.004359821788966656, 0.009052838198840618, -0.003699718741700053, 0.001506448839791119, 0.012812280096113682, 0.01586761325597763, -0.0012864145683124661, -0.009159712120890617, 0.029824072495102882, 0.029321135953068733, -0.02645440399646759, -0.0020510335452854633, 0.00063024100381881, -0.04136643931269646, 0.021915411576628685, 0.0064501469023525715, -0.02864217385649681, 0.002575972583144903, 0.013415803201496601, 0.028315264731645584, -0.014358807355165482, 0.01767818070948124, -0.00803439412266016, 0.014145059511065483, 0.006456433795392513, 0.004922480788081884, 0.006582167465239763, -0.004318958148360252, -0.002846300369128585, -0.014321086928248405, -0.007958953268826008, 0.016106506809592247, 0.011026859283447266, -0.004281238187104464, -0.0011237463913857937, 0.010794252157211304, 0.0076571921817958355, 0.00998955499380827, -0.014082192443311214, 0.0021814825013279915, 0.022141732275485992, -0.0016816903371363878, -0.004202654119580984, -0.002065178705379367, -0.0034451077226549387, 0.012868860736489296, -0.018407437950372696, -0.011466927826404572, 0.003825452644377947, 0.010266169905662537, -0.016408268362283707, 0.015653865411877632, -0.010775391943752766, -0.02846614643931389, 0.024719277396798134, -0.0011253179982304573, -0.006245829630643129, 0.010750245302915573, -0.0239522997289896, -0.02405288815498352, -0.03316859155893326, 0.005840337835252285, 0.01532695721834898, -0.004413258749991655, -0.010153009556233883, -0.012950588017702103, -0.0216513704508543, -0.029874365776777267, 0.01796736940741539, 0.007405724376440048, -0.028591880574822426, 0.011492074467241764, -0.004410115070641041, -0.027787182480096817, -0.005098508205264807, -0.0011606806656345725, 0.01207045093178749, -0.010266169905662537, -0.014698288403451443, -0.004394398536533117, -0.014849169179797173, 0.005620303563773632, -0.007154256571084261, -0.00932945217937231, 0.009109417907893658, 0.022003425285220146, -0.0006404568557627499, 0.017539873719215393, 0.029572604224085808, -0.02367568574845791, -0.005123654846101999, 0.014295940287411213, 0.00408949377015233, -0.013679844327270985, 0.00454527884721756, 0.0013044888619333506, -0.00849332194775343, -0.0019315864192321897, 0.007380577735602856, 0.014295940287411213, 0.017036939039826393, 0.02866731956601143, 0.002662414452061057, 0.017904501408338547, -0.018206262961030006, -0.018130822107195854, -0.0319363996386528, 0.00042749513522721827, -0.03550724312663078, 0.00848074909299612, 0.014346233569085598, 0.007103963289409876, -0.0034954012371599674, -0.002794435014948249, 0.027108220383524895, 0.0223680529743433, 0.018633758649230003, 0.00013103826495353132, -0.024618690833449364, -0.029195401817560196, 0.0007300422294065356, 0.0023355064913630486, 0.006997089367359877, -0.018746918067336082, -0.003850599518045783, 0.014949755743145943, 0.04003366082906723, 0.003605418372899294, 0.035683270543813705, -0.00019164591503795236, -0.024316929280757904, -0.022908709943294525, 0.015062916092574596, 0.019564189016819, 0.012347064912319183, -0.009360886178910732, 0.0027095647528767586, 0.008304721675813198, -0.018721772357821465, 0.03392299637198448, 0.017904501408338547, -0.01022844947874546, 0.0067079016007483006, 0.026831606402993202, -0.01667230948805809, 0.0064501469023525715, 0.027485422790050507, 0.022317759692668915, -0.010844545438885689, 0.0011033146874979138, 0.028717614710330963, -0.006538160610944033, -0.0017838492058217525, -0.018394863232970238, -0.0034073875285685062, 0.001335922279395163, -0.032690804451704025, 0.0020274585112929344, -0.025373093783855438, 0.01996653713285923, 0.03276624530553818, 0.012887720949947834, 0.005793187767267227, -0.00354569498449564, -0.004520132206380367, 0.005774327553808689, -0.014635421335697174, -0.004476125352084637, -0.022782975807785988, 0.008939677849411964, 0.0030286144465208054, -0.012850000523030758, -0.002574400743469596, 0.03545694798231125, -0.030880236998200417, 0.0036745721008628607, -0.0018891512881964445, 0.0007379006128758192, -0.007223410531878471, -0.009254012256860733, -0.0022443493362516165, -0.015301810577511787, -0.02026829868555069, -0.0014679428422823548, 0.011730968952178955, 0.00531854247674346, -0.013629550114274025, -0.027032779529690742, -0.012843714095652103, -0.0022144876420497894, -0.005409699399024248, -0.011536081321537495, 0.009505479596555233, 0.007776639424264431, -0.02305958978831768, 0.019224707037210464, 0.005340545903891325, 0.029421724379062653, 0.0037217221688479185, -0.0076760523952543736, -0.0075628915801644325, 0.017602739855647087, 0.024782143533229828, -0.0023527948651462793, -0.021902838721871376, 0.01268025953322649, -0.00631812633946538, -0.008700783364474773, -0.013629550114274025, -0.005812047515064478, -0.011114872992038727, -0.002469098661094904, 0.003941756673157215, -0.0005701244808733463, 0.00864420272409916, 0.004161790944635868, -0.00526510551571846, -0.006223826203495264, 0.015339531004428864, 0.029773777350783348, -0.0015936767449602485, -0.005478852894157171, -0.011265753768384457, -0.026127496734261513, -0.009266585111618042, 0.06196164712309837, -0.0007767995120957494, 0.003322517266497016, 0.014811448752880096, -0.01737641915678978, -0.012139604426920414, -0.0361107662320137, -0.023311058059334755, -0.013390656560659409, -0.004781030118465424, -0.0007382935145869851, 0.004287524614483118, -0.014006752520799637, 0.014258219860494137, 0.01492460910230875, 0.012032730504870415, -0.0014003608375787735, -0.029270842671394348, -0.002062035258859396, -0.0005775899044238031, -0.015817319974303246, 0.010498777031898499, 0.0025916891172528267, 0.012950588017702103, 0.01769075356423855, -0.00022533864830620587, 0.009769520722329617, 0.011077153496444225, -0.004881617147475481, -0.002761429874226451, 0.008656776510179043, -0.0021091855596750975, 0.012303058058023453, 0.004535849206149578, 0.01886007934808731, 0.020620353519916534, -0.0012887720949947834, 0.03206213563680649, 0.005104794632643461, -0.010926272720098495, 0.0037405823823064566, 0.009819814935326576, -0.00726113049313426, -0.005290252156555653, 0.013566683977842331, 0.005827764514833689, -0.010366756469011307, 0.02705792710185051, -0.001299773808568716, -0.031408317387104034, 0.02645440399646759, 0.0076571921817958355, -0.008700783364474773, -0.020243151113390923, -0.01847030408680439, 0.014786302112042904, 0.0039040364790707827, -0.012598533183336258, -0.017250685021281242, -0.02517191879451275, -0.014421673491597176, -0.01677289791405201, -0.006292979698628187, 0.004237231332808733, -0.02406546100974083, -0.016332829371094704, -0.02456839568912983, 0.005089078098535538, -0.003765729023143649, 0.0002489137405063957, -0.005680026952177286, -0.039128378033638, 0.002973605878651142, -0.0027362832333892584, 0.02145019732415676, 0.0032785104122012854, -0.006377850193530321, -0.002104470506310463, 0.003184210043400526, 0.006258402951061726, -0.0020698937587440014, -0.02924569696187973, 0.010058708488941193, -0.005642306990921497, 0.00788351334631443, 0.00531854247674346, 0.012076737359166145, 0.016458561643958092, -0.021726811304688454, 0.03213757649064064, 0.00928544532507658, 0.014622848480939865, 0.024782143533229828, 0.003055332927033305, 0.014572554267942905, -0.0003532335686031729, 0.009536913596093655, -0.002701706252992153, -0.0216513704508543, 0.002899737097322941, -0.010285030119121075, -0.011372627690434456, 0.004334674682468176, 0.006531874183565378, -0.0037374389357864857, 0.015553278848528862, 0.016546575352549553, 0.01272426638752222, -0.013466096483170986, -0.0026026908308267593, 0.03316859155893326, -0.022393200546503067, 0.020406605675816536, -0.011410348117351532, 0.0014663711190223694, 0.01806795597076416, 0.022305186837911606, 0.028290119022130966, -0.005610873457044363, -0.028390705585479736, 0.002255351049825549, -0.02265724167227745, 0.006695328280329704, 0.012391071766614914, 0.0038820330519229174, 0.0016549719730392098, -0.0037154355086386204, -0.020444326102733612, -0.0024801003746688366, -0.00446355203166604, -0.010234735906124115, 0.016056213527917862, 0.00035343001945875585, 0.002885592170059681, -0.01579217240214348, -0.006082375533878803, -0.021839970722794533, 0.014836595393717289, -0.004938197322189808, -0.020896967500448227, -0.028591880574822426, -0.004422688391059637, -0.002692276379093528, -0.0114732151851058, -0.04063718393445015, -0.04410743713378906, -0.015540705062448978, -0.0034482511691749096, -0.014069618657231331, 0.016458561643958092, -0.0018765778513625264, -0.0022412061225622892, -0.023336203768849373, -0.018130822107195854, -0.0026372678112238646, -0.017502153292298317, -0.005406556185334921, -0.0012714837212115526, 0.03148375824093819, 0.025121625512838364, 0.028793053701519966, 0.004494985565543175, 0.019413307309150696, 0.002704849699512124, -0.014836595393717289, -0.018847506493330002, 0.006258402951061726, -0.012208757922053337, -0.011561228893697262, 0.008204134181141853, 0.02175195701420307, 0.02456839568912983, -0.010303890332579613, 0.009210005402565002, 0.00408949377015233, -0.00807840097695589, -0.015829892829060555, 0.0050104944966733456, -0.021236449480056763, -0.02005455084145069, -0.01648370921611786, 0.0013571399031206965, 0.0022113441955298185, 0.01163666881620884, 0.012259051203727722, -0.010907412506639957, 0.013604403473436832, 0.009756947867572308, 0.019601909443736076, 0.004344104789197445, 0.025586839765310287, -0.01838229037821293, 0.01796736940741539, 0.0006475293776020408, 0.018130822107195854, -0.012183611281216145, 0.004781030118465424, -0.010008415207266808, 0.01936301402747631, 0.00807840097695589, 0.023889433592557907, 0.029396576806902885, -0.009511766955256462, -0.005236815195530653, 0.00907798483967781, 0.02675616554915905, -0.005918921437114477, -0.0017508440650999546, 0.004344104789197445, -0.0040329135954380035, 0.0013209914322942495, -0.018696624785661697, -0.0033445206936448812, -0.01897323876619339, 0.009807241149246693, -0.00903397798538208, -0.019803082570433617, 0.01467314176261425, -0.012642540037631989, -0.03284168615937233, -0.016320254653692245, 0.0004428189422469586, 0.041089825332164764, 0.004174364265054464, 0.010203302837908268, 0.016798043623566628, 0.00030844088178128004, -0.0007056812755763531, 0.02475699782371521, -0.021198729053139687, -0.0022962146904319525, 0.04005880653858185, 0.003762585809454322, -0.007349144201725721, -0.020896967500448227, 0.005733463913202286, 0.0031402031891047955, -0.01213331799954176, -0.02446780912578106, 0.0059880749322474, 0.01896066591143608, -0.008807657286524773, -0.014019325375556946, 0.00789608620107174, -0.026580138131976128, 0.013088895007967949, 0.0013626407599076629, -0.021613650023937225, -0.017024364322423935, 0.010555357672274113, -0.022028572857379913, 0.0097820945084095, -0.030075538903474808, 0.02466898411512375, 0.025297652930021286, -0.007355431094765663, -0.006619887892156839, -0.0040046232752501965, 0.0023779417388141155, 0.0007858366589061916, -0.004064347129315138, 0.0293462835252285, -0.01888522505760193, 0.00391975324600935, 0.01896066591143608, 0.007487451191991568, -0.01996653713285923, -0.003060047747567296, -0.006588454358279705, 0.021010128781199455, -0.018721772357821465, -5.6924040109151974e-05, -0.009354598820209503, 0.012793419882655144, -0.0018561461474746466, 0.01072509866207838, -0.011492074467241764, -0.005852911155670881, -0.008763650432229042, 0.004504415672272444, 0.026731017976999283, 5.417361171566881e-05, 0.0029940374661237, -0.01845773123204708, -0.022921282798051834, -0.02187769114971161, -0.0489104725420475, -0.005302825476974249, 0.0030490460339933634, -0.025021038949489594, -0.01227791141718626, -0.00631812633946538, 0.007594325114041567, 0.021311890333890915, 0.015993347391486168, -0.008248141035437584, 0.012862574309110641, 0.026605285704135895, -0.015264091081917286, -0.00576489744707942, 0.026404110714793205, 0.014622848480939865, -0.027510568499565125, 0.015213796868920326, -0.0024643836077302694, -0.01736384630203247, 0.006173532456159592, -0.018495451658964157, -0.0021233304869383574, 0.0022804979234933853, 0.01836971752345562, 0.0035928450524806976, -0.010146722197532654, 0.006883929017931223, 0.02567485347390175, 0.018243983387947083, 0.012768273241817951, -0.003624278586357832, -0.009203718975186348, 0.03930440545082092, -0.008487035520374775, 0.0012235476169735193, -0.011580088175833225, -0.014308513142168522, 0.028390705585479736, -0.008084687404334545, -0.008361301384866238, -0.0009375031222589314, -0.031986694782972336, -0.0067833419889211655, -0.0042623779736459255, 0.009059124626219273, 0.016596870496869087, -0.01532695721834898, -0.03673943504691124, -0.003501688130199909, -0.018721772357821465, -0.0009437897824682295, 0.006340129766613245, -0.00988268107175827, 0.003825452644377947, 0.016244815662503242, 0.010479917749762535, 0.002954745665192604, 0.006682754494249821, -0.014044472016394138, -0.012328204698860645, -0.017099805176258087, -0.02445523627102375, -0.010090142488479614, -0.0030899096745997667, 0.03834882751107216, -0.0005257247248664498, -0.011517222039401531, -0.011360053904354572, -0.007254843600094318, -0.026731017976999283, -0.02635381743311882, -0.003957473207265139, -0.00498849106952548, 0.0026152643840759993, 0.017539873719215393, -0.006063515320420265, 0.021286742761731148, 0.0038537427317351103, -0.005796330980956554, -0.004721306264400482, -0.01667230948805809, 0.020004257559776306, -0.004095780663192272, 0.014207926578819752, 0.0016172517789527774, -0.02046947181224823, 0.011404060758650303, 0.0016486851964145899, 0.009870108217000961, -0.010813112370669842, 0.013755284249782562, -0.0013115613255649805, -0.012359638698399067, -0.01302602794021368, -0.0017162672011181712, -0.00018840433040168136, 0.011605235747992992, 0.022129159420728683, -0.017024364322423935, 9.705082629807293e-05, 0.0034293909557163715, -0.002899737097322941, 0.008065827190876007, -0.010278742760419846, 0.017640460282564163, -0.012856286950409412, 0.011202886700630188, -0.01937558874487877, -0.012963160872459412, -0.008153840899467468, -0.03015097975730896, 0.014233073219656944, -0.018621183931827545, 0.0014726578956469893, 0.02846614643931389, 0.0075628915801644325, 0.0058654844760894775, 0.0011190313380211592, -0.0014781587524339557, -0.004831323400139809, 0.0037814457900822163, -0.0064092837274074554, -0.01332778949290514, -0.00536254933103919, -0.01097656600177288, -0.01997910998761654, -0.03223816305398941, -0.0015677440678700805, -0.024417515844106674, -0.015012622810900211, -0.008876810781657696, 0.039002642035484314, 0.006965655833482742, -0.021198729053139687, -0.005975501611828804, -0.02517191879451275, 0.004755883477628231, 0.004205797798931599, -0.015264091081917286, 0.0011646099155768752, -0.011422920972108841, -0.0019771649967879057, 0.02894393540918827, -0.02147534303367138, 0.002403088379651308, 0.028591880574822426, 0.02445523627102375, 0.0034168176352977753, 0.041290998458862305, 0.2307467758655548, -0.012523092329502106, 0.0008887812145985663, 0.033797260373830795, 0.01775362156331539, 0.013755284249782562, 0.007757779210805893, 0.003608561819419265, 0.008499609306454659, 0.008210421539843082, -0.013189481571316719, -0.00012642146612051874, -0.008216707967221737, 0.006632461212575436, 0.004755883477628231, 0.007468591444194317, -0.022481214255094528, -0.023587672039866447, -0.03472769260406494, -0.02685675211250782, 0.00922886561602354, -0.028114091604948044, -0.029974952340126038, -0.017338698729872704, 0.02057006023824215, -0.004680443089455366, -0.010146722197532654, -0.004881617147475481, 0.02904452197253704, 0.010957705788314342, 0.0036462820135056973, -0.013679844327270985, 0.006751908455044031, 0.009203718975186348, -0.01522637065500021, -0.01736384630203247, 0.029899511486291885, 0.018746918067336082, 0.03153405338525772, 0.003338234033435583, -0.014874315820634365, -0.030804796144366264, 5.952712308499031e-05, -0.01193214301019907, 0.012900293804705143, 0.005654880311340094, 0.005447419360280037, -0.028818201273679733, 0.02036888524889946, 0.025134198367595673, 0.0023433647584170103, 0.0010993854375556111, 0.020519766956567764, 0.037996772676706314, 0.001201544189825654, -0.014459393918514252, 0.008411595597863197, 0.012950588017702103, -0.0052210986614227295, 0.006261546164751053, -3.4994286579603795e-06, 0.028793053701519966, -0.001296630478464067, 0.033193740993738174, -0.01867147907614708, 0.0066701811738312244, -0.026378963142633438, -0.0009987984085455537, 0.004036056809127331, -0.0078395064920187, -0.012447652406990528, -0.00768862571567297, 0.00817898754030466, -0.0038097358774393797, -0.026982486248016357, -0.0069279358722269535, 0.013843297958374023, 0.001522951410152018, 0.03460196033120155, 0.0355323888361454, -0.010153009556233883, -0.004218371119350195, -0.010096428915858269, -0.025775441899895668, -0.03266565874218941, -0.02844099886715412, 0.007531458046287298, -0.0025288222823292017, -0.013893591240048409, -0.015289237722754478, -0.006255259737372398, -0.011422920972108841, 0.00137207075022161, 0.002327647991478443, 0.02585088089108467, 0.026303524151444435, -0.002701706252992153, 0.010278742760419846, -0.0159681998193264, 0.013340362347662449, -0.00694050919264555, 0.0040234834887087345, 0.002681274665519595, 0.007204550318419933, -0.005510286428034306, 0.008725930005311966, -0.007204550318419933, 0.01193214301019907, -0.005645450204610825, -0.01396903209388256, -0.021689090877771378, -0.0006479222793132067, -0.0009186430252157152, -0.009769520722329617, -0.00044399770558811724, 0.006582167465239763, -0.010901126079261303, -0.0047716000117361546, -0.0029798925388604403, -0.011001712642610073, -0.004054917022585869, -0.01975278928875923, -0.013855871744453907, -0.0031889250967651606, -0.0004966487758792937, -0.011102300137281418, -0.008606483228504658, 0.007525171618908644, 0.010178156197071075, -0.03570841625332832, 0.008021820336580276, -0.006384136620908976, 0.00993297528475523, 0.009159712120890617, -0.006588454358279705, 0.009247725829482079, 0.013302642852067947, -0.0007622615084983408, -0.0174770075827837, 0.00023300056636799127, 0.0019001530017703772, -0.00631812633946538, 0.009021404199302197, -0.008505895733833313, -0.020783808082342148, -0.010844545438885689, 0.04154246672987938, -0.02806379832327366, -0.009191145189106464, 0.004199510905891657, -0.04745195806026459, -0.014660567976534367, -0.010712524875998497, -0.0039071799255907536, 0.023612819612026215, -0.021085567772388458, -0.019840802997350693, -0.029572604224085808, -0.002728424733504653, 0.0025005321949720383, -0.018017662689089775, 0.012435078620910645, 0.022921282798051834, -0.0038883197121322155, -0.029622897505760193, -0.014534834772348404, -0.16103993356227875, 0.019790509715676308, 0.011454354971647263, -0.02046947181224823, 0.027284247800707817, 0.013591830618679523, 0.021513063460588455, 0.008549902588129044, -0.006902788765728474, 0.014585128054022789, 0.016609443351626396, -0.015590998344123363, -0.020922115072607994, -0.018545744940638542, -0.003910323139280081, -0.010706238448619843, -0.0039008930325508118, 0.016018493101000786, 0.030402448028326035, 0.03226330876350403, 0.026102349162101746, -0.0067833419889211655, 0.011906996369361877, -0.005843481048941612, 0.015892760828137398, -0.0070348093286156654, 0.001007442595437169, 0.034803133457899094, -0.010329036973416805, -0.00363056524656713, -0.018922945484519005, -0.027409981936216354, 0.020004257559776306, 0.0018750062445178628, 0.01976536214351654, 0.0014687286457046866, 0.010102715343236923, -0.03656340762972832, -0.01129090040922165, 0.02327333763241768, 0.029723484069108963, 0.01757759414613247, 0.018910372629761696, -0.01727583259344101, -0.01766560785472393, -0.001064022770151496, 0.022229745984077454, 0.01637054793536663, 0.014622848480939865, 0.0006380993290804327, 0.01003984920680523, -0.005331115797162056, 0.0011598948622122407, -0.003322517266497016, 0.026680724695324898, 0.029773777350783348, 0.010134149342775345, 0.024291781708598137, 0.004702446516603231, -0.007902373559772968, 8.39862877910491e-06, -0.01585504040122032, -0.006902788765728474, -0.0060415118932724, -0.005507143214344978, 0.0028698754031211138, -0.0018577177543193102, 0.0060760886408388615, -0.0029453157912939787, 0.012938014231622219, -0.013805577531456947, -0.023084737360477448, -0.011743542738258839, -0.02036888524889946, 0.011712108738720417, 0.004281238187104464, -0.038072213530540466, 0.029069669544696808, -0.01767818070948124, -0.01007756870239973, -0.007826932705938816, 0.022883562371134758, 0.001615680055692792, 0.007506311405450106, -0.021927984431385994, 0.01033532340079546, 0.0018608610844239593, 0.0070662428624928, -0.03203698620200157, -0.02035631239414215, 0.01022844947874546, -0.01746443286538124, -0.012900293804705143, -0.018596038222312927, 0.008763650432229042, 0.012912867590785027, 0.007154256571084261, 0.017011791467666626, -0.016144227236509323, -0.017300980165600777, -6.72258693157346e-06, 0.008153840899467468, -0.018533170223236084, 0.007493738085031509, 0.03570841625332832, -0.0028651603497564793, 0.013126615434885025, 0.016093933954834938, 0.021638797596096992, -0.03186095878481865, -0.028591880574822426, 0.011171453632414341, 0.01616937480866909, 0.016119081526994705, 0.02025572583079338, 0.0309305302798748, -0.00651301397010684, -0.019036106765270233, 0.007594325114041567, -0.007965239696204662, 0.04883503168821335, 0.009021404199302197, -0.046169474720954895, 0.004787316545844078, 0.011316047050058842, 0.006619887892156839, -0.07031037658452988, -0.03155919909477234, 0.004457265138626099, 0.012541952542960644, 0.0028745904564857483, 0.03691546246409416, 0.0013579257065430284, 0.002827440155670047, 0.0004216013476252556, 0.0032816538587212563, 0.005598300136625767, -0.030025245621800423, -0.00963121373206377, -0.015339531004428864, 0.03960616514086723, -0.021689090877771378, 0.011592661961913109, 0.004664726089686155, -0.035104893147945404, 0.0068336352705955505, 0.0029924658592790365, 0.0019645916763693094, 0.004334674682468176, -0.004997921176254749, -0.013038601726293564, 0.006107522174715996, -0.02954745665192604, 0.03794647753238678, 0.005415985826402903, -0.0042718080803751945, -0.02695734053850174, -0.01997910998761654, -0.012479085475206375, -0.011196600273251534, 0.0009555773576721549, 0.016911204904317856, -0.03324403241276741, 0.03226330876350403, 0.010310176759958267, -0.034199610352516174, 0.029924659058451653, 0.006399853620678186, -0.0042718080803751945, -0.0565299428999424, -0.005922064650803804, 0.015490411780774593, 0.0004805391072295606, 0.035884443670511246, 0.013893591240048409, -0.01058679074048996, -0.03593473881483078, -0.02786262333393097, -0.024216340854763985, 0.003319373819977045, 0.01547783799469471, -0.00315906316973269, 0.008952250704169273, 0.025926321744918823, -0.010743958875536919, 0.010253596119582653, 0.011360053904354572, 0.007122823037207127, -0.018143396824598312, 0.018017662689089775, -0.006865068804472685, 0.016131654381752014, -0.012850000523030758, 0.019790509715676308, 0.01806795597076416, 0.002623122651129961, -0.01907382719218731, 0.026303524151444435, 0.003834882751107216, 0.009662646800279617, -0.0329422727227211, -0.012862574309110641, -0.013654697686433792, -0.01897323876619339, 0.009398605674505234, -0.007474877871572971, -0.03684002161026001, -0.014484540559351444, -0.0012282626703381538, -0.005714604165405035, 0.022606948390603065, 0.007468591444194317, -0.013088895007967949, 0.005670597311109304, -0.014723435044288635, -0.038097359240055084, -0.027183661237359047, 0.020041977986693382, 0.008053253404796124, -0.010234735906124115, 0.018231410533189774, 0.013629550114274025, -0.008040680550038815, 0.00396376010030508, 0.012912867590785027, 0.014409100636839867, -0.0239522997289896, -0.006371563300490379, -0.07659706473350525, 0.028214678168296814, -0.016622016206383705, -0.02705792710185051, 0.0020840386860072613, -0.026932192966341972, 0.0072925640270113945, -0.014195352792739868, -0.005463136360049248, -0.016144227236509323, -0.01936301402747631, 0.000568159855902195, 0.006186105776578188, 0.014258219860494137, -0.0293462835252285, 0.0012958445586264133, 0.01686091162264347, 0.009920401498675346, 0.000869921175763011, -0.0015716733178123832, 0.001356353983283043, -0.032917123287916183, -0.012548238970339298, 0.0029075955972075462, -0.012139604426920414, 0.013365508988499641, -0.024694129824638367, -0.0015535990241914988, -0.0033602374605834484, -0.007808072958141565, 0.0056045870296657085, -0.03736810386180878, 0.00386631628498435, 0.019891096279025078, -0.0009830816416069865, -0.004212084226310253, 0.007028522901237011, 0.0211484357714653, 0.007594325114041567, 0.02534794621169567, -0.03372182324528694, -0.022732682526111603, 0.013453522697091103, -0.004303241614252329, 0.0036745721008628607, 0.0077326325699687, -0.011190313845872879, -0.0003834882809314877, 0.03301771357655525, 0.01138520147651434, -0.009486619383096695, 0.037795599550008774, -0.024430088698863983, -0.008568762801587582, -0.006619887892156839, -0.013214629143476486, -0.02087182179093361, -0.005714604165405035, -0.004567282274365425, -0.042975835502147675, 0.024291781708598137, 0.0003756298974622041, 0.02783747762441635, -0.011133733205497265, 0.0010938845807686448, 0.010190729051828384, -0.0211484357714653, -0.002987750805914402, -0.010146722197532654, -0.01785420812666416, -0.007701199036091566, -0.007613185327500105, 0.0011913282796740532, 0.004869043827056885, 0.020205430686473846, 0.02145019732415676, -0.008518469519913197, 0.02515934593975544, -0.04624491557478905, 0.0369657538831234, 0.01927500031888485, 0.02436722256243229, -0.03203698620200157, -0.0029798925388604403, 0.03872602805495262, 0.012686546891927719, -0.006601027678698301, -0.017238112166523933, -0.003467111149802804, 0.0030223277863115072, -0.038977496325969696, -0.020796380937099457, 0.0008966395980678499, 0.02844099886715412, -0.003957473207265139, 0.006025795359164476, 0.01736384630203247, 0.015754451975226402, 0.01976536214351654, 0.02615264244377613, -0.0012974162818863988, 0.005645450204610825, -0.01273055374622345, -0.009430039674043655, -0.013604403473436832, 0.008122407831251621, -0.0061798193491995335, -0.04493728280067444, -0.009593493305146694, 0.008650490082800388, 0.011504648253321648, 0.03246448189020157, -0.004218371119350195, 0.013088895007967949, -0.02454324997961521, -0.010618224740028381, 0.024329502135515213, 1.0350941920478363e-05, -0.025800587609410286, 0.03266565874218941, -0.007015949580818415, 0.005529146641492844, 0.02525993250310421, -0.015138356946408749, 0.004950770642608404, 0.007022236008197069, -0.007022236008197069, -0.003985763527452946, 0.018005087971687317, -0.010454770177602768, 0.010643371380865574, -0.0026671295054256916, -0.016194520518183708, -0.018998386338353157, 0.0017382706282660365, 0.016144227236509323, -0.016634589061141014, 0.03321888670325279, -0.010850831866264343, 0.06749393790960312, -0.009310591965913773, 0.008556189015507698, 0.01815596967935562, 0.013290069065988064, 0.0220788661390543, 0.025624560192227364, 0.008820230141282082, -0.006739335134625435, -0.02287098951637745, -0.0025728291366249323, 0.01072509866207838, 9.479154687142e-05, -0.025536546483635902, -0.010310176759958267, -0.0027975784614682198, -0.013051174581050873, 0.0016141084488481283, -0.021337036043405533, 0.011749829165637493, 0.015729306265711784, 0.006211252883076668, 0.024316929280757904, 0.014057045802474022, -0.024631263688206673, -0.021299315616488457, 0.007644618861377239, 0.00611066585406661, -0.024694129824638367, -0.012950588017702103, 0.01796736940741539, -0.0017382706282660365, -0.008380161598324776, -0.006896502338349819, 0.00239680171944201, 0.008336154744029045, -0.008103547617793083, -0.004199510905891657, 0.0010624511633068323, 0.007594325114041567, 0.018847506493330002, 0.008468175306916237, -0.014207926578819752, -0.032791391015052795, 0.004749596584588289, -0.0020588920451700687, -0.02495817095041275, -0.006714188028126955, -0.014761155471205711]\n"
     ]
    }
   ],
   "source": [
    "#Use it only once and then the local embeddings.\n",
    "response = openai.Embedding.create(input=\"Hello World!\", engine=EMBEDDING_MODEL)\n",
    "print(\"Full response keys from embedding\", response.keys())\n",
    "\n",
    "e = response[\"data\"][0][\"embedding\"]\n",
    "print(\"Embedding\", e)"
   ]
  }
 ],
 "metadata": {
  "kernelspec": {
   "display_name": "openai-qna-env",
   "language": "python",
   "name": "python3"
  },
  "language_info": {
   "codemirror_mode": {
    "name": "ipython",
    "version": 3
   },
   "file_extension": ".py",
   "mimetype": "text/x-python",
   "name": "python",
   "nbconvert_exporter": "python",
   "pygments_lexer": "ipython3",
   "version": "3.11.4"
  },
  "orig_nbformat": 4,
  "vscode": {
   "interpreter": {
    "hash": "c4ee1bbf3137c7ea9420c4fd488a55642063e5739fe2a7286130d9ba47405b69"
   }
  }
 },
 "nbformat": 4,
 "nbformat_minor": 2
}
